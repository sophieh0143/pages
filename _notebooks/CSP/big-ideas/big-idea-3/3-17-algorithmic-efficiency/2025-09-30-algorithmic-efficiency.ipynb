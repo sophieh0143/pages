{
 "cells": [
  {
   "cell_type": "raw",
   "id": "ae5f9331",
   "metadata": {
    "vscode": {
     "languageId": "raw"
    }
   },
   "source": [
    "---\n",
    "layout: post\n",
    "title: \"3.17 Algorithmic Efficiency\"\n",
    "categories: [Programming Fundamentals, Tutorial]\n",
    "tags: [python, javascript, algorithms, lesson, beginner]\n",
    "description: Learn about algorithms and how they can be more or less efficient\n",
    "permalink: /peppa-maze/algorithmic-efficiency\n",
    "---"
   ]
  },
  {
   "cell_type": "markdown",
   "id": "3e7c3dcf",
   "metadata": {},
   "source": [
    "## Computer Science Principles Lesson 3.17 - Algorithmic Efficiency"
   ]
  },
  {
   "cell_type": "markdown",
   "id": "bbe2d894",
   "metadata": {},
   "source": [
    "We all love video games - getting to do things that you could never in real life. Some games are simple, 2D games with basic mechanics. Others have complex 3D graphics with ray-tracing, collisions, and a whole bunch of game mechanics that are hard to wrap your head around! Have you ever wondered how these games are able to do so much, so fast? While processing power is a part of it, one of the biggest factors is completely in the hands of the developer - algorithmic efficiency."
   ]
  },
  {
   "cell_type": "markdown",
   "id": "aabf5407",
   "metadata": {},
   "source": [
    "### Nice Yap, but What Does \"Algorithmic Efficiency\" Even Mean?\n",
    "\n",
    "Okay, so this \"algorithmic efficiency\" thing is <i>important</i>, but what even is it?\n",
    "\n",
    "To put it simply, <strong>algorithmic efficiency refers to the speed and memory usage of a computer algorithm</strong>, which is important to keep track of when coding. The quicker and less memory-intensive an algorithm is, the more efficient it is considered."
   ]
  },
  {
   "cell_type": "markdown",
   "id": "763282b0",
   "metadata": {},
   "source": [
    "### What's So Important About Algorithmic Efficiency?\n",
    "\n",
    "Considering the efficiency of algorithms is important in computer science <strong>because processing power and time are limited</strong>. It is much better to have an algorithm finish quickly while using little RAM then for it to take 10 minutes and a few fire extinguishers to get the task done!"
   ]
  },
  {
   "cell_type": "markdown",
   "id": "19a99823",
   "metadata": {},
   "source": [
    "### How do We Measure Algorithmic Efficiency?\n",
    "\n",
    "Algorithmic efficiency is mainly dependent on time complexity and memory usage. Time complexity can be measured using <strong>Big-O Notation</strong>. Big-O notation is a representation of the average amount of extra steps a computer has to take for input as it grows. Big-O notation does not necessarily show the exact amount of steps a computer takes to complete an algorithm, but it gives a good estimate based on the average input. Memory usage is mostly dependent on time complexity, and can be derived from an algorithm's Big-O representation. You'll see some examples of Big-O notation later on in this lesson."
   ]
  },
  {
   "cell_type": "markdown",
   "id": "3477bc73",
   "metadata": {},
   "source": [
    "### Example: Designing Algorithms and Measuring Their Efficiency Using Python\n",
    "\n",
    "Let's create an algorithm and see how algorithmically efficient it is using Big-O notation."
   ]
  },
  {
   "cell_type": "code",
   "execution_count": null,
   "id": "86d17da7",
   "metadata": {},
   "outputs": [],
   "source": [
    "# Define some simple variables\n",
    "index = 0\n",
    "amount = 10\n",
    "\n",
    "# The algorithm we'll be analyzing:\n",
    "while index < amount:\n",
    "    print(\"I love Python!\")\n",
    "    index += 1"
   ]
  },
  {
   "cell_type": "markdown",
   "id": "aea1bf7c",
   "metadata": {},
   "source": [
    "In this example, we repeat some code while the \"index\" variable is less than the \"amount\" variable. Each time, we increment \"index\" by 1. How algorithmically efficient is this algorithm? Let's use Big-O notation to show it:\n",
    "\n",
    "First, let's look at the outermost loop. The loop will execute \"amount\" times, so the computer will have to take one extra step for every extra value of \"amount\". The Big-O notation for this would be <strong>O(n)</strong>, because the computer needs to take n steps for every n inputs, which in this case is the value of \"amount\". Because \"print()\" and \"index += 1\" are things that the computer can do in one step, they have O(1) time complexity (time complexity refers to how many steps a computer takes on average to complate an algorithm, which is what Big-O notation represents). All together, this algorithm has O(n) time complexity."
   ]
  },
  {
   "cell_type": "markdown",
   "id": "021f4b95",
   "metadata": {},
   "source": [
    "### Example: Designing Algorithms and Measuring Their Efficiency Using Javascript\n",
    "\n",
    "Let's create an algorithm and see how algorithmically efficient it is using Big-O notation, however this time we'll use Javascript."
   ]
  },
  {
   "cell_type": "code",
   "execution_count": null,
   "id": "e27bc6fd",
   "metadata": {
    "vscode": {
     "languageId": "javascript"
    }
   },
   "outputs": [
    {
     "data": {
      "application/javascript": "const amount = 8;\nlet outerIndex = 0;\nlet innerIndex = 0;\nlet overallIndex = 0;\n\nwhile (outerIndex < amount) {\n    innerIndex = 0;\n    while (innerIndex < amount) {\n        overallIndex++;\n        console.log(`Iteration #${overallIndex}`);\n        innerIndex++;\n    }\n    outerIndex++;\n}\n",
      "text/plain": [
       "<IPython.core.display.Javascript object>"
      ]
     },
     "metadata": {},
     "output_type": "display_data"
    }
   ],
   "source": [
    "%%js\n",
    "// Define variables\n",
    "const amount = 8;\n",
    "let outerIndex = 0;\n",
    "let innerIndex = 0;\n",
    "let overallIndex = 0;\n",
    "\n",
    "// The algorithm we'll be analyzing:\n",
    "while (outerIndex < amount) { //Outer loop\n",
    "    innerIndex = 0;\n",
    "    while (innerIndex < amount) { //Inner loop\n",
    "        overallIndex++;\n",
    "        console.log(`Iteration #${overallIndex}`);\n",
    "        innerIndex++;\n",
    "    }\n",
    "    outerIndex++;\n",
    "}"
   ]
  },
  {
   "cell_type": "markdown",
   "id": "c3bff9a1",
   "metadata": {},
   "source": [
    "This one is a little more complicated. The outer loop runs \"amount\" times, but so does the inner loop. This means that the whole thing runs \"amout\" times, \"amount\" times! In terms of Big-O notation, the outer loop has a time complexity of O(n), and within this loop, another loop of O(n) time complexity runs. To figure out the time complexity of the whole algorithm, we need to multiply the inner time complexity by the outer one. What we get is O(n * n), or O(n^2). <strong>So, this algorithm's time complexity is O(n^2).</strong>"
   ]
  }
 ],
 "metadata": {
  "kernelspec": {
   "display_name": "Python 3",
   "language": "python",
   "name": "python3"
  },
  "language_info": {
   "codemirror_mode": {
    "name": "ipython",
    "version": 3
   },
   "file_extension": ".py",
   "mimetype": "text/x-python",
   "name": "python",
   "nbconvert_exporter": "python",
   "pygments_lexer": "ipython3",
   "version": "3.12.3"
  }
 },
 "nbformat": 4,
 "nbformat_minor": 5
}
